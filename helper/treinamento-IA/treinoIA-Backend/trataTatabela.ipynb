{
 "cells": [
  {
   "cell_type": "code",
   "execution_count": 70,
   "metadata": {},
   "outputs": [],
   "source": [
    "import pandas as pd\n",
    "import json\n",
    "from datetime import datetime, timedelta\n",
    "import random"
   ]
  },
  {
   "cell_type": "code",
   "execution_count": 71,
   "metadata": {},
   "outputs": [],
   "source": [
    "csv_file_path = 'TabelaNutrIA-Tratada.csv'\n",
    "df = pd.read_csv(csv_file_path, sep=',')\n",
    "jsonl_file_path = 'output-backend.jsonl'"
   ]
  },
  {
   "cell_type": "code",
   "execution_count": 72,
   "metadata": {},
   "outputs": [],
   "source": [
    "dates = {\n",
    "    'hoje': datetime.now().strftime('%Y-%m-%d'),\n",
    "    'ontem': (datetime.now() - timedelta(days=1)).strftime('%Y-%m-%d'),\n",
    "    'amanha': (datetime.now() + timedelta(days=1)).strftime('%Y-%m-%d')\n",
    "}\n",
    "\n",
    "datas_chaves = list(dates.keys())\n"
   ]
  },
  {
   "cell_type": "code",
   "execution_count": 73,
   "metadata": {},
   "outputs": [],
   "source": [
    "content = f\"Você é um assistente nutricional especializado e sua função é fornecer respostas claras e diretas sobre tópicos de nutrição, incluindo planejamento de refeições, controle de calorias e dicas para uma alimentação saudável baseados nos pilares de dietas flexível, contagem de macronutrientes e balanço energético. Você também deve retornar informação nutricional sobre alimentos baseado em nossa tabela de alimentos e ajuda os usuários a registrar seu consumo calórico durante o dia em refeições específicas quando solicitado. Você deve gerar em um formato JSON específico para que o sistema de backend possa processar e executar ações conforme necessário. Hoje é dia {dates['hoje']}.\""
   ]
  },
  {
   "cell_type": "markdown",
   "metadata": {},
   "source": [
    "### Resposta Completa"
   ]
  },
  {
   "cell_type": "code",
   "execution_count": 74,
   "metadata": {},
   "outputs": [
    {
     "name": "stdout",
     "output_type": "stream",
     "text": [
      "Arquivo output-backend.jsonl criado com sucesso.\n"
     ]
    }
   ],
   "source": [
    "with open(jsonl_file_path, \"w\", encoding=\"utf-8\") as jsonl_file:\n",
    "    for index, row in df.iterrows():\n",
    "        index_data = random.randint(0, 2)\n",
    "        data_chave = datas_chaves[index_data]\n",
    "        numero_refeicao = random.randint(1, 8)\n",
    "        qtde_utilizada_porcao = random.randint(1, 5)\n",
    "        qtde_utilizada_gramas = qtde_utilizada_porcao * row[\"porcao_padrao\"]\n",
    "        qtde_utilizada = round(qtde_utilizada_gramas / row[\"porcao_padrao\"], 1)\n",
    "        entrada_usuario = f\"Adicionar {qtde_utilizada_gramas} gramas de {row['nome_alimento']} {row['estado_alimento']} na minha refeicao {numero_refeicao} de {data_chave}.\"\n",
    "\n",
    "        arguments = {\n",
    "                    \"numero_refeicao\":numero_refeicao,\n",
    "                    \"id_alimento\": None,\n",
    "                    \"id_prato\":None,\n",
    "                    \"dt_dia\":dates[data_chave],\n",
    "                    \"unidade_medida\":\"GRAMAS\",\n",
    "                    \"porcao_padrao\":round(row[\"porcao_padrao\"], 1),\n",
    "                    \"qtde_utilizada\":qtde_utilizada,\n",
    "                    \"qtde_proteina\":round(qtde_utilizada * row[\"qtde_proteina\"], 1),\n",
    "                    \"qtde_carboidrato\":round(\n",
    "                        qtde_utilizada * row[\"qtde_carboidrato\"], 1\n",
    "                    ),\n",
    "                    \"qtde_gordura\":round(qtde_utilizada * row[\"qtde_gordura\"], 1),\n",
    "                    \"qtde_alcool\":round(qtde_utilizada * row[\"qtde_alcool\"], 1),\n",
    "                    \"kcal\":round(qtde_utilizada * row[\"kcal\"], 1),\n",
    "                }\n",
    "\n",
    "        resposta_assistente = {\n",
    "            \"id\": \"call_V80O8ygGntZ7zyzexd2G7Jfd\",\n",
    "            \"type\": \"function\",\n",
    "            \"function\": {\n",
    "                \"name\": \"add_consumo_alimento\",\n",
    "                \"arguments\": json.dumps(arguments)\n",
    "            },\n",
    "        }\n",
    "\n",
    "        mensagem = {\n",
    "            \"messages\": [\n",
    "                {\n",
    "                    \"role\": \"system\",\n",
    "                    \"content\": content,\n",
    "                },\n",
    "                {\"role\": \"user\", \"content\": entrada_usuario},\n",
    "                {\n",
    "                    \"role\": \"assistant\",\n",
    "                    \"content\": None,\n",
    "                    \"tool_calls\": [resposta_assistente],\n",
    "                },\n",
    "            ]\n",
    "        }\n",
    "\n",
    "        jsonl_file.write(json.dumps(mensagem, ensure_ascii=False) + \"\\n\")\n",
    "\n",
    "\n",
    "print(f\"Arquivo {jsonl_file_path} criado com sucesso.\")"
   ]
  },
  {
   "cell_type": "markdown",
   "metadata": {},
   "source": [
    "### Sem refeição"
   ]
  },
  {
   "cell_type": "code",
   "execution_count": 75,
   "metadata": {},
   "outputs": [
    {
     "name": "stdout",
     "output_type": "stream",
     "text": [
      "Arquivo output-backend.jsonl criado com sucesso.\n"
     ]
    }
   ],
   "source": [
    "with open(jsonl_file_path, 'a', encoding='utf-8') as jsonl_file:\n",
    "\n",
    "    for index, row in df.head(50).iterrows():\n",
    "        index_data = random.randint(0, 2)\n",
    "        data_chave = datas_chaves[index_data]\n",
    "        numero_refeicao = random.randint(1, 8)\n",
    "        qtde_utilizada_porcao = random.randint(1, 5)\n",
    "        qtde_utilizada_gramas = qtde_utilizada_porcao * row['porcao_padrao']\n",
    "        qtde_utilizada = round(qtde_utilizada_gramas/row['porcao_padrao'],1)\n",
    "        entrada_usuario = f\"Adicionar {qtde_utilizada_gramas} gramas de {row['nome_alimento']} {row['estado_alimento']} {data_chave}.\"\n",
    "\n",
    "        arguments = {\n",
    "                    \"numero_refeicao\":None,\n",
    "                    \"id_alimento\": None,\n",
    "                    \"id_prato\":None,\n",
    "                    \"dt_dia\":dates[data_chave],\n",
    "                    \"unidade_medida\":\"GRAMAS\",\n",
    "                    \"porcao_padrao\":round(row[\"porcao_padrao\"], 1),\n",
    "                    \"qtde_utilizada\":qtde_utilizada,\n",
    "                    \"qtde_proteina\":round(qtde_utilizada * row[\"qtde_proteina\"], 1),\n",
    "                    \"qtde_carboidrato\":round(\n",
    "                        qtde_utilizada * row[\"qtde_carboidrato\"], 1\n",
    "                    ),\n",
    "                    \"qtde_gordura\":round(qtde_utilizada * row[\"qtde_gordura\"], 1),\n",
    "                    \"qtde_alcool\":round(qtde_utilizada * row[\"qtde_alcool\"], 1),\n",
    "                    \"kcal\":round(qtde_utilizada * row[\"kcal\"], 1),\n",
    "                },\n",
    "\n",
    "\n",
    "        resposta_assistente = {\n",
    "            \"id\": \"call_V80O8ygGntZ7zyzexd2G7Jfd\",\n",
    "            \"type\": \"function\",\n",
    "            \"function\": {\n",
    "                \"name\": \"add_consumo_alimento\",\n",
    "                \"arguments\": json.dumps(arguments)\n",
    "            },\n",
    "        }\n",
    "\n",
    "        mensagem = {\n",
    "            \"messages\": [\n",
    "                {\n",
    "                    \"role\": \"system\",\n",
    "                    \"content\": content,\n",
    "                },\n",
    "                {\n",
    "                    \"role\": \"user\",\n",
    "                    \"content\": entrada_usuario\n",
    "                },\n",
    "                {\n",
    "                    \"role\": \"assistant\",\n",
    "                    \"content\": \"Não é possível adicionar o alimento, Por favor informe o número da refeição.\",\n",
    "                    \"tool_calls\": None,\n",
    "                },\n",
    "            ]\n",
    "        }\n",
    "        \n",
    "        jsonl_file.write(json.dumps(mensagem, ensure_ascii=False) + \"\\n\")\n",
    "\n",
    "\n",
    "print(f\"Arquivo {jsonl_file_path} criado com sucesso.\")"
   ]
  },
  {
   "cell_type": "markdown",
   "metadata": {},
   "source": [
    "### Sem alimento"
   ]
  },
  {
   "cell_type": "code",
   "execution_count": 76,
   "metadata": {},
   "outputs": [
    {
     "name": "stdout",
     "output_type": "stream",
     "text": [
      "Arquivo output-backend.jsonl criado com sucesso.\n"
     ]
    }
   ],
   "source": [
    "with open(jsonl_file_path, 'a', encoding='utf-8') as jsonl_file:\n",
    "\n",
    "    for index, row in df.head(50).iterrows():\n",
    "        index_data = random.randint(0, 2)\n",
    "        data_chave = datas_chaves[index_data]\n",
    "        numero_refeicao = random.randint(1, 8)\n",
    "        qtde_utilizada_porcao = random.randint(1, 5)\n",
    "        qtde_utilizada_gramas = qtde_utilizada_porcao * row['porcao_padrao']\n",
    "        qtde_utilizada = round(qtde_utilizada_gramas/row['porcao_padrao'],1)\n",
    "        entrada_usuario = f\"Adicionar {qtde_utilizada_gramas} gramas {row['estado_alimento']} na minha refeicao {numero_refeicao} de {data_chave}.\"\n",
    "\n",
    "        arguments = {\n",
    "                    \"numero_refeicao\":numero_refeicao,\n",
    "                    \"id_alimento\":None,\n",
    "                    \"id_prato\":None,\n",
    "                    \"dt_dia\":dates[data_chave],\n",
    "                    \"unidade_medida\":\"GRAMAS\",\n",
    "                    \"porcao_padrao\":round(row[\"porcao_padrao\"], 1),\n",
    "                    \"qtde_utilizada\":qtde_utilizada,\n",
    "                    \"qtde_proteina\":None,\n",
    "                    \"qtde_carboidrato\":None,\n",
    "                    \"qtde_gordura\":None,\n",
    "                    \"qtde_alcool\":None,\n",
    "                    \"kcal\":None,\n",
    "                },\n",
    "\n",
    "        resposta_assistente = {\n",
    "            \"id\": \"call_V80O8ygGntZ7zyzexd2G7Jfd\",\n",
    "            \"type\": \"function\",\n",
    "            \"function\": {\n",
    "                \"name\": \"add_consumo_alimento\",\n",
    "                \"arguments\": json.dumps(arguments)\n",
    "            },\n",
    "        }\n",
    "\n",
    "        mensagem = {\n",
    "            \"messages\": [\n",
    "                {\n",
    "                    \"role\": \"system\",\n",
    "                    \"content\": content,\n",
    "                },\n",
    "                {\n",
    "                    \"role\": \"user\",\n",
    "                    \"content\": entrada_usuario\n",
    "                },\n",
    "                {\n",
    "                    \"role\": \"assistant\",\n",
    "                    \"content\": \"Não é possível adicionar o alimento, Por favor informe o nome do alimento.\",\n",
    "                    \"tool_calls\": None,\n",
    "                },\n",
    "            ]\n",
    "        }\n",
    "        \n",
    "        jsonl_file.write(json.dumps(mensagem, ensure_ascii=False) + '\\n')\n",
    "\n",
    "print(f\"Arquivo {jsonl_file_path} criado com sucesso.\")"
   ]
  },
  {
   "cell_type": "markdown",
   "metadata": {},
   "source": [
    "### Sem Quantidade"
   ]
  },
  {
   "cell_type": "code",
   "execution_count": 77,
   "metadata": {},
   "outputs": [
    {
     "name": "stdout",
     "output_type": "stream",
     "text": [
      "Arquivo output-backend.jsonl criado com sucesso.\n"
     ]
    }
   ],
   "source": [
    "with open(jsonl_file_path, 'a', encoding='utf-8') as jsonl_file:\n",
    "\n",
    "    for index, row in df.head(50).iterrows():\n",
    "        index_data = random.randint(0, 2)\n",
    "        data_chave = datas_chaves[index_data]\n",
    "        numero_refeicao = random.randint(1, 8)\n",
    "        qtde_utilizada_porcao = random.randint(1, 5)\n",
    "        qtde_utilizada_gramas = qtde_utilizada_porcao * row['porcao_padrao']\n",
    "        qtde_utilizada = round(qtde_utilizada_gramas/row['porcao_padrao'],1)\n",
    "        entrada_usuario = f\"Adicionar {row['nome_alimento']} {row['estado_alimento']} na minha refeicao {numero_refeicao} de {data_chave}.\"\n",
    "\n",
    "        arguments = {\n",
    "                    \"numero_refeicao\":numero_refeicao,\n",
    "                    \"id_alimento\":None,\n",
    "                    \"id_prato\":None,\n",
    "                    \"dt_dia\":dates[data_chave],\n",
    "                    \"unidade_medida\":\"GRAMAS\",\n",
    "                    \"porcao_padrao\":None,\n",
    "                    \"qtde_utilizada\":None,\n",
    "                    \"qtde_proteina\":None,\n",
    "                    \"qtde_carboidrato\":None,\n",
    "                    \"qtde_gordura\":None,\n",
    "                    \"qtde_alcool\":None,\n",
    "                    \"kcal\":None,\n",
    "                },\n",
    "\n",
    "\n",
    "        resposta_assistente = {\n",
    "            \"id\": \"call_V80O8ygGntZ7zyzexd2G7Jfd\",\n",
    "            \"type\": \"function\",\n",
    "            \"function\": {\n",
    "                \"name\": \"add_consumo_alimento\",\n",
    "                \"arguments\": json.dumps(arguments)\n",
    "            },\n",
    "        }\n",
    "\n",
    "        mensagem = {\n",
    "            \"messages\": [\n",
    "                {\n",
    "                    \"role\": \"system\",\n",
    "                    \"content\": content,\n",
    "                },\n",
    "                {\n",
    "                    \"role\": \"user\",\n",
    "                    \"content\": entrada_usuario\n",
    "                },\n",
    "                {\n",
    "                    \"role\": \"assistant\",\n",
    "                    \"content\": \"Não é possível adicionar o alimento, Por favor informe a quantidade.\",\n",
    "                    \"tool_calls\": None,\n",
    "                },\n",
    "            ]\n",
    "        }\n",
    "        \n",
    "        jsonl_file.write(json.dumps(mensagem, ensure_ascii=False) + '\\n')\n",
    "\n",
    "print(f\"Arquivo {jsonl_file_path} criado com sucesso.\")"
   ]
  },
  {
   "cell_type": "markdown",
   "metadata": {},
   "source": [
    "# Assumir data Atual sem infor"
   ]
  },
  {
   "cell_type": "code",
   "execution_count": 78,
   "metadata": {},
   "outputs": [
    {
     "name": "stdout",
     "output_type": "stream",
     "text": [
      "Arquivo output-backend.jsonl criado com sucesso.\n"
     ]
    }
   ],
   "source": [
    "with open(jsonl_file_path, 'a', encoding='utf-8') as jsonl_file:\n",
    "    \n",
    "    for index, row in df.iterrows():\n",
    "        index_data = random.randint(0, 2)\n",
    "        data_chave = datas_chaves[index_data]\n",
    "        numero_refeicao = random.randint(1, 8)\n",
    "        qtde_utilizada_porcao = random.randint(1, 5)\n",
    "        qtde_utilizada_gramas = qtde_utilizada_porcao * row[\"porcao_padrao\"]\n",
    "        qtde_utilizada = round(qtde_utilizada_gramas / row[\"porcao_padrao\"], 1)\n",
    "        entrada_usuario = f\"Adicionar {qtde_utilizada_gramas} gramas de {row['nome_alimento']} {row['estado_alimento']} na minha refeicao {numero_refeicao}.\"\n",
    "\n",
    "        arguments = {\n",
    "                    \"numero_refeicao\":numero_refeicao,\n",
    "                    \"id_alimento\": None,\n",
    "                    \"id_prato\":None,\n",
    "                    \"dt_dia\":dates['hoje'],\n",
    "                    \"unidade_medida\":\"GRAMAS\",\n",
    "                    \"porcao_padrao\":round(row[\"porcao_padrao\"], 1),\n",
    "                    \"qtde_utilizada\":qtde_utilizada,\n",
    "                    \"qtde_proteina\":round(qtde_utilizada * row[\"qtde_proteina\"], 1),\n",
    "                    \"qtde_carboidrato\":round(\n",
    "                        qtde_utilizada * row[\"qtde_carboidrato\"], 1\n",
    "                    ),\n",
    "                    \"qtde_gordura\":round(qtde_utilizada * row[\"qtde_gordura\"], 1),\n",
    "                    \"qtde_alcool\":round(qtde_utilizada * row[\"qtde_alcool\"], 1),\n",
    "                    \"kcal\":round(qtde_utilizada * row[\"kcal\"], 1),\n",
    "                },\n",
    "\n",
    "        resposta_assistente = {\n",
    "            \"id\": \"call_V80O8ygGntZ7zyzexd2G7Jfd\",\n",
    "            \"type\": \"function\",\n",
    "            \"function\": {\n",
    "                \"name\": \"add_consumo_alimento\",\n",
    "                \"arguments\": json.dumps(arguments)\n",
    "            },\n",
    "        }\n",
    "\n",
    "        mensagem = {\n",
    "            \"messages\": [\n",
    "                {\n",
    "                    \"role\": \"system\",\n",
    "                    \"content\": content,\n",
    "                },\n",
    "                {\"role\": \"user\", \"content\": entrada_usuario},\n",
    "                {\n",
    "                    \"role\": \"assistant\",\n",
    "                    \"content\": None,\n",
    "                    \"tool_calls\": [resposta_assistente],\n",
    "                },\n",
    "            ]\n",
    "        }\n",
    "\n",
    "        jsonl_file.write(json.dumps(mensagem, ensure_ascii=False) + \"\\n\")\n",
    "\n",
    "\n",
    "print(f\"Arquivo {jsonl_file_path} criado com sucesso.\")"
   ]
  }
 ],
 "metadata": {
  "kernelspec": {
   "display_name": "Python 3",
   "language": "python",
   "name": "python3"
  },
  "language_info": {
   "codemirror_mode": {
    "name": "ipython",
    "version": 3
   },
   "file_extension": ".py",
   "mimetype": "text/x-python",
   "name": "python",
   "nbconvert_exporter": "python",
   "pygments_lexer": "ipython3",
   "version": "3.9.6"
  }
 },
 "nbformat": 4,
 "nbformat_minor": 2
}

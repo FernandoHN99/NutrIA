{
 "cells": [
  {
   "cell_type": "code",
   "execution_count": 10,
   "metadata": {},
   "outputs": [],
   "source": [
    "import pandas as pd\n",
    "import json\n",
    "from datetime import datetime, timedelta\n",
    "import random"
   ]
  },
  {
   "cell_type": "code",
   "execution_count": 11,
   "metadata": {},
   "outputs": [],
   "source": [
    "csv_file_path = 'TabelaNutrIA-Tratada.csv'\n",
    "df = pd.read_csv(csv_file_path, sep=',')\n",
    "jsonl_file_path = 'output-backend.jsonl'"
   ]
  },
  {
   "cell_type": "code",
   "execution_count": 12,
   "metadata": {},
   "outputs": [],
   "source": [
    "dates = {\n",
    "    'hoje': datetime.now().strftime('%Y-%m-%d'),\n",
    "    'ontem': (datetime.now() - timedelta(days=1)).strftime('%Y-%m-%d'),\n",
    "    'amanha': (datetime.now() + timedelta(days=1)).strftime('%Y-%m-%d')\n",
    "}\n",
    "\n",
    "datas_chaves = list(dates.keys())\n",
    "valores_porcao_padrao = [1, 50, 100, 200]\n",
    "valores_quantidades = [1, 25, 30, 40, 50, 55, 75, 60, 93, 100]\n"
   ]
  },
  {
   "cell_type": "code",
   "execution_count": 13,
   "metadata": {},
   "outputs": [],
   "source": [
    "content = f\"Você é um assistente nutricional especializado em invocar funções para ajudar o usuário a preencher o seu registro de alimentos. Se atente a função solicitada e seu respectivo schema!\"\n",
    "\n",
    "refeicoes_usuario = {\"1\":{\"numero_refeicao\":1,\"nome_refeicao\":\"Café\",\"totalProteina\":0,\"totalCarboidrato\":0,\"totalGordura\":0,\"totalAlcool\":0,\"totalKcal\":0},\"2\":{\"numero_refeicao\":2,\"nome_refeicao\":\"Almoço\",\"totalProteina\":0,\"totalCarboidrato\":0,\"totalGordura\":0,\"totalAlcool\":0,\"totalKcal\":0},\"3\":{\"numero_refeicao\":3,\"nome_refeicao\":\"Jantar\",\"totalProteina\":0,\"totalCarboidrato\":0,\"totalGordura\":0,\"totalAlcool\":0,\"totalKcal\":0},\"4\":{\"numero_refeicao\":4,\"nome_refeicao\":\"Lanche Da Tarde\",\"totalProteina\":0,\"totalCarboidrato\":0,\"totalGordura\":0,\"totalAlcool\":0,\"totalKcal\":0},\"5\": {\"numero_refeicao\": 5,\"nome_refeicao\": \"Ceia\",\"totalProteina\": 0,\"totalCarboidrato\": 0,\"totalGordura\": 0,\"totalAlcool\": 0,\"totalKcal\": 0}}\n",
    "\n",
    "entrada_usuario_base = f\"Hoje é dia {dates['hoje']}. Um resumo geral de hoje: {refeicoes_usuario}. \""
   ]
  },
  {
   "cell_type": "markdown",
   "metadata": {},
   "source": [
    "### Resposta Completa"
   ]
  },
  {
   "cell_type": "code",
   "execution_count": 14,
   "metadata": {},
   "outputs": [
    {
     "name": "stdout",
     "output_type": "stream",
     "text": [
      "Arquivo output-backend.jsonl criado com sucesso.\n"
     ]
    }
   ],
   "source": [
    "with open(jsonl_file_path, \"w\", encoding=\"utf-8\") as jsonl_file:\n",
    "    for index, row in df.head(1000).iterrows():\n",
    "        index_data = random.randint(0, 2)\n",
    "        data_chave = datas_chaves[index_data]\n",
    "        numero_refeicao = random.randint(1, 5)\n",
    "        nome_refeicao = refeicoes_usuario[str(numero_refeicao)]['nome_refeicao']\n",
    "        porcao_padrao = 1\n",
    "        qtde_utilizada_porcao = random.choice(valores_quantidades)\n",
    "        qtde_utilizada_gramas = qtde_utilizada_porcao * porcao_padrao\n",
    "        fator_multiplicador = qtde_utilizada_gramas / row['porcao_padrao']\n",
    "        # qtde_utilizada = round(qtde_utilizada_gramas / porcao_padrao, 1)\n",
    "        entrada_usuario = entrada_usuario_base + f\"Adicionar {qtde_utilizada_gramas} gramas de {row['nome_alimento']} no meu {nome_refeicao} de {data_chave}.\"\n",
    "        arguments = {\n",
    "            \"alimentos\": [{\n",
    "                    \"nome_consumo\":row[\"nome_alimento\"],\n",
    "                    \"numero_refeicao\":numero_refeicao,\n",
    "                    \"id_alimento\": None,\n",
    "                    \"id_prato\":None,\n",
    "                    \"dt_dia\":dates[data_chave],\n",
    "                    \"unidade_medida\":\"GRAMA\",\n",
    "                    \"porcao_padrao\": porcao_padrao,\n",
    "                    \"qtde_utilizada\":qtde_utilizada_porcao,\n",
    "                    \"qtde_proteina\":round(fator_multiplicador * row[\"qtde_proteina\"], 1),\n",
    "                    \"qtde_carboidrato\":round(\n",
    "                        fator_multiplicador * row[\"qtde_carboidrato\"], 1\n",
    "                    ),\n",
    "                    \"qtde_gordura\":round(fator_multiplicador * row[\"qtde_gordura\"], 1),\n",
    "                    \"qtde_alcool\":round(fator_multiplicador * row[\"qtde_alcool\"], 1),\n",
    "                    \"kcal\":round(fator_multiplicador * row[\"kcal\"], 1),\n",
    "                }]\n",
    "         }\n",
    "\n",
    "        resposta_assistente = {\n",
    "            \"id\": \"call_V80O8ygGntZ7zyzexd2G7Jfd\",\n",
    "            \"type\": \"function\",\n",
    "            \"function\": {\n",
    "                \"name\": \"add_consumo_alimento\",\n",
    "                \"arguments\": json.dumps(arguments),\n",
    "            },\n",
    "        }\n",
    "\n",
    "        mensagem = {\n",
    "            \"messages\": [\n",
    "                {\n",
    "                    \"role\": \"system\",\n",
    "                    \"content\": content,\n",
    "                },\n",
    "                {   \"role\": \"user\", \n",
    "                    \"content\": entrada_usuario\n",
    "                },\n",
    "                {\n",
    "                    \"role\": \"assistant\",\n",
    "                    \"content\": None,\n",
    "                    \"tool_calls\": [resposta_assistente],\n",
    "                },\n",
    "            ]\n",
    "        }\n",
    "\n",
    "        jsonl_file.write(json.dumps(mensagem, ensure_ascii=False) + \"\\n\")\n",
    "\n",
    "\n",
    "print(f\"Arquivo {jsonl_file_path} criado com sucesso.\")"
   ]
  },
  {
   "cell_type": "markdown",
   "metadata": {},
   "source": [
    "### Sem refeição"
   ]
  },
  {
   "cell_type": "code",
   "execution_count": 15,
   "metadata": {},
   "outputs": [
    {
     "name": "stdout",
     "output_type": "stream",
     "text": [
      "Arquivo output-backend.jsonl criado com sucesso.\n"
     ]
    }
   ],
   "source": [
    "with open(jsonl_file_path, 'a', encoding='utf-8') as jsonl_file:\n",
    "\n",
    "    for index, row in df.head(100).iterrows():\n",
    "        index_data = random.randint(0, 2)\n",
    "        data_chave = datas_chaves[index_data]\n",
    "        numero_refeicao = random.randint(1, 8)\n",
    "        porcao_padrao = 1\n",
    "        qtde_utilizada_porcao = random.choice(valores_quantidades)\n",
    "        qtde_utilizada_gramas = qtde_utilizada_porcao * porcao_padrao\n",
    "        fator_multiplicador = qtde_utilizada_gramas / row['porcao_padrao']\n",
    "        # qtde_utilizada = round(qtde_utilizada_gramas / porcao_padrao, 1)\n",
    "        entrada_usuario = entrada_usuario_base + f\"Lembrando que hoje é dia {dates['hoje']}. Adicionar {qtde_utilizada_gramas} gramas de {row['nome_alimento']} {data_chave}.\"\n",
    "\n",
    "        mensagem = {\n",
    "            \"messages\": [\n",
    "                {\n",
    "                    \"role\": \"system\",\n",
    "                    \"content\": content,\n",
    "                },\n",
    "                {\n",
    "                    \"role\": \"user\",\n",
    "                    \"content\": entrada_usuario\n",
    "                },\n",
    "                {\n",
    "                    \"role\": \"assistant\",\n",
    "                    \"content\": \"Por favor informe a refeição.\",\n",
    "                    \"tool_calls\": None,\n",
    "                },\n",
    "            ]\n",
    "        }\n",
    "        \n",
    "        jsonl_file.write(json.dumps(mensagem, ensure_ascii=False) + \"\\n\")\n",
    "\n",
    "\n",
    "print(f\"Arquivo {jsonl_file_path} criado com sucesso.\")"
   ]
  },
  {
   "cell_type": "markdown",
   "metadata": {},
   "source": [
    "### Sem alimento"
   ]
  },
  {
   "cell_type": "code",
   "execution_count": 16,
   "metadata": {},
   "outputs": [
    {
     "name": "stdout",
     "output_type": "stream",
     "text": [
      "Arquivo output-backend.jsonl criado com sucesso.\n"
     ]
    }
   ],
   "source": [
    "with open(jsonl_file_path, 'a', encoding='utf-8') as jsonl_file:\n",
    "\n",
    "    for index, row in df.head(50).iterrows():\n",
    "        index_data = random.randint(0, 2)\n",
    "        data_chave = datas_chaves[index_data]\n",
    "        numero_refeicao = random.randint(1, 5)\n",
    "        nome_refeicao = refeicoes_usuario[str(numero_refeicao)]['nome_refeicao']\n",
    "        porcao_padrao = 1\n",
    "        qtde_utilizada_porcao = random.choice(valores_quantidades)\n",
    "        qtde_utilizada_gramas = qtde_utilizada_porcao * porcao_padrao\n",
    "        fator_multiplicador = qtde_utilizada_gramas / row['porcao_padrao']\n",
    "        # qtde_utilizada = round(qtde_utilizada_gramas / porcao_padrao, 1)\n",
    "        entrada_usuario = entrada_usuario_base + f\"Adicionar no meu {nome_refeicao} de {data_chave}.\"\n",
    "\n",
    "        mensagem = {\n",
    "            \"messages\": [\n",
    "                {\n",
    "                    \"role\": \"system\",\n",
    "                    \"content\": content,\n",
    "                },\n",
    "                {\n",
    "                    \"role\": \"user\",\n",
    "                    \"content\": entrada_usuario\n",
    "                },\n",
    "                {\n",
    "                    \"role\": \"assistant\",\n",
    "                    \"content\": \"Me informe o nome do alimento por favor.\",\n",
    "                    \"tool_calls\": None,\n",
    "                },\n",
    "            ]\n",
    "        }\n",
    "        \n",
    "        jsonl_file.write(json.dumps(mensagem, ensure_ascii=False) + '\\n')\n",
    "\n",
    "print(f\"Arquivo {jsonl_file_path} criado com sucesso.\")"
   ]
  },
  {
   "cell_type": "markdown",
   "metadata": {},
   "source": [
    "### Sem Quantidade"
   ]
  },
  {
   "cell_type": "code",
   "execution_count": 17,
   "metadata": {},
   "outputs": [
    {
     "name": "stdout",
     "output_type": "stream",
     "text": [
      "Arquivo output-backend.jsonl criado com sucesso.\n"
     ]
    }
   ],
   "source": [
    "with open(jsonl_file_path, 'a', encoding='utf-8') as jsonl_file:\n",
    "\n",
    "    for index, row in df.head(100).iterrows():\n",
    "        index_data = random.randint(0, 2)\n",
    "        data_chave = datas_chaves[index_data]\n",
    "        numero_refeicao = random.randint(1, 5)\n",
    "        nome_refeicao = refeicoes_usuario[str(numero_refeicao)]['nome_refeicao']\n",
    "        porcao_padrao = 1\n",
    "        qtde_utilizada_porcao = random.choice(valores_quantidades)\n",
    "        qtde_utilizada_gramas = qtde_utilizada_porcao * porcao_padrao\n",
    "        fator_multiplicador = qtde_utilizada_gramas / row['porcao_padrao']\n",
    "        # qtde_utilizada = round(qtde_utilizada_gramas / porcao_padrao, 1)\n",
    "        entrada_usuario = entrada_usuario_base + f\"Adicionar {row['nome_alimento']} na minha refeicao do {nome_refeicao} de {data_chave}.\"\n",
    "\n",
    "        mensagem = {\n",
    "            \"messages\": [\n",
    "                {\n",
    "                    \"role\": \"system\",\n",
    "                    \"content\": content,\n",
    "                },\n",
    "                {\n",
    "                    \"role\": \"user\",\n",
    "                    \"content\": entrada_usuario\n",
    "                },\n",
    "                {\n",
    "                    \"role\": \"assistant\",\n",
    "                    \"content\": \"Por favor informe a quantidade.\",\n",
    "                    \"tool_calls\": None,\n",
    "                },\n",
    "            ]\n",
    "        }\n",
    "        \n",
    "        jsonl_file.write(json.dumps(mensagem, ensure_ascii=False) + '\\n')\n",
    "\n",
    "print(f\"Arquivo {jsonl_file_path} criado com sucesso.\")"
   ]
  },
  {
   "cell_type": "markdown",
   "metadata": {},
   "source": [
    "# Assumir data Atual sem infor"
   ]
  },
  {
   "cell_type": "code",
   "execution_count": 18,
   "metadata": {},
   "outputs": [
    {
     "name": "stdout",
     "output_type": "stream",
     "text": [
      "Arquivo output-backend.jsonl criado com sucesso.\n"
     ]
    }
   ],
   "source": [
    "with open(jsonl_file_path, 'a', encoding='utf-8') as jsonl_file:\n",
    "    \n",
    "    for index, row in df.head(150).iterrows():\n",
    "        index_data = random.randint(0, 2)\n",
    "        data_chave = datas_chaves[index_data]\n",
    "        numero_refeicao = random.randint(1, 5)\n",
    "        porcao_padrao = 1\n",
    "        qtde_utilizada_porcao = random.choice(valores_quantidades)\n",
    "        qtde_utilizada_gramas = qtde_utilizada_porcao * porcao_padrao\n",
    "        fator_multiplicador = qtde_utilizada_gramas / row['porcao_padrao']\n",
    "        # qtde_utilizada = round(qtde_utilizada_gramas / porcao_padrao, 1)\n",
    "        entrada_usuario = entrada_usuario_base + f\"Adicionar {qtde_utilizada_gramas} gramas de {row['nome_alimento']} {row['estado_alimento']} na minha refeicao {numero_refeicao}.\"\n",
    "\n",
    "        arguments = {\n",
    "            \"alimentos\": [{\n",
    "                    \"numero_refeicao\":numero_refeicao,\n",
    "                    \"id_alimento\": None,\n",
    "                    \"id_prato\":None,\n",
    "                    \"dt_dia\":dates['hoje'],\n",
    "                    \"unidade_medida\":\"GRAMA\",\n",
    "                    \"porcao_padrao\": porcao_padrao,\n",
    "                    \"qtde_utilizada\":qtde_utilizada_porcao,\n",
    "                    \"qtde_proteina\":round(fator_multiplicador * row[\"qtde_proteina\"], 1),\n",
    "                    \"qtde_carboidrato\":round(\n",
    "                        fator_multiplicador * row[\"qtde_carboidrato\"], 1\n",
    "                    ),\n",
    "                    \"qtde_gordura\":round(fator_multiplicador * row[\"qtde_gordura\"], 1),\n",
    "                    \"qtde_alcool\":round(fator_multiplicador * row[\"qtde_alcool\"], 1),\n",
    "                    \"kcal\":round(fator_multiplicador * row[\"kcal\"], 1),\n",
    "                }]\n",
    "        }\n",
    "\n",
    "        resposta_assistente = {\n",
    "            \"id\": \"call_V80O8ygGntZ7zyzexd2G7Jfd\",\n",
    "            \"type\": \"function\",\n",
    "            \"function\": {\n",
    "                \"name\": \"add_consumo_alimento\",\n",
    "                \"arguments\": json.dumps(arguments)\n",
    "            },\n",
    "        }\n",
    "\n",
    "        mensagem = {\n",
    "            \"messages\": [\n",
    "                {\n",
    "                    \"role\": \"system\",\n",
    "                    \"content\": content,\n",
    "                },\n",
    "                {\"role\": \"user\", \"content\": entrada_usuario},\n",
    "                {\n",
    "                    \"role\": \"assistant\",\n",
    "                    \"content\": None,\n",
    "                    \"tool_calls\": [resposta_assistente],\n",
    "                },\n",
    "            ]\n",
    "        }\n",
    "\n",
    "        jsonl_file.write(json.dumps(mensagem, ensure_ascii=False) + \"\\n\")\n",
    "\n",
    "\n",
    "print(f\"Arquivo {jsonl_file_path} criado com sucesso.\")"
   ]
  }
 ],
 "metadata": {
  "kernelspec": {
   "display_name": "Python 3",
   "language": "python",
   "name": "python3"
  },
  "language_info": {
   "codemirror_mode": {
    "name": "ipython",
    "version": 3
   },
   "file_extension": ".py",
   "mimetype": "text/x-python",
   "name": "python",
   "nbconvert_exporter": "python",
   "pygments_lexer": "ipython3",
   "version": "3.9.6"
  }
 },
 "nbformat": 4,
 "nbformat_minor": 2
}

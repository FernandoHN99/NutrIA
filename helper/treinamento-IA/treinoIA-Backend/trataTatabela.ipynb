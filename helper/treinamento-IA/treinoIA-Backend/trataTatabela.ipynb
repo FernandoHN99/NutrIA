{
 "cells": [
  {
   "cell_type": "code",
   "execution_count": 8,
   "metadata": {},
   "outputs": [],
   "source": [
    "import pandas as pd\n",
    "import json\n",
    "from datetime import datetime, timedelta\n",
    "import random"
   ]
  },
  {
   "cell_type": "code",
   "execution_count": 9,
   "metadata": {},
   "outputs": [],
   "source": [
    "csv_file_path = 'TabelaNutrIA-Tratada.csv'\n",
    "df = pd.read_csv(csv_file_path, sep=',')\n",
    "jsonl_file_path = 'output-backend.jsonl'"
   ]
  },
  {
   "cell_type": "code",
   "execution_count": 10,
   "metadata": {},
   "outputs": [],
   "source": [
    "# crie um dicionário de datas, com chave hoje, ontem, amanha e valores no formato %Y-%m-%d\n",
    "dates = {\n",
    "    'hoje': datetime.now().strftime('%Y-%m-%d'),\n",
    "    'ontem': (datetime.now() - timedelta(days=1)).strftime('%Y-%m-%d'),\n",
    "    'amanha': (datetime.now() + timedelta(days=1)).strftime('%Y-%m-%d')\n",
    "}\n",
    "\n",
    "datas_chaves = list(dates.keys())\n"
   ]
  },
  {
   "cell_type": "markdown",
   "metadata": {},
   "source": [
    "### Resposta Completa"
   ]
  },
  {
   "cell_type": "code",
   "execution_count": 11,
   "metadata": {},
   "outputs": [
    {
     "name": "stdout",
     "output_type": "stream",
     "text": [
      "Arquivo output-backend.jsonl criado com sucesso.\n"
     ]
    }
   ],
   "source": [
    "with open(jsonl_file_path, 'w', encoding='utf-8') as jsonl_file:\n",
    "    for index, row in df.iterrows():\n",
    "        index_data = random.randint(0, 2)\n",
    "        data_chave = datas_chaves[index_data]\n",
    "        numero_refeicao = random.randint(1, 8)\n",
    "        qtde_utilizada_porcao = random.randint(1, 5)\n",
    "        qtde_utilizada_gramas = qtde_utilizada_porcao * row['porcao_padrao']\n",
    "        qtde_utilizada = round(qtde_utilizada_gramas/row['porcao_padrao'],1)\n",
    "        entrada_usuario = f\"Adicionar {qtde_utilizada_gramas} gramas de {row['nome_alimento']} {row['estado_alimento']} na minha refeicao {numero_refeicao} de {data_chave}.\"\n",
    "\n",
    "\n",
    "        resposta_assistente = {\n",
    "            \"acao\": \"add_alimento\",\n",
    "            \"resposta\": \"\",\n",
    "            \"dados\": {\n",
    "                \"numero_refeicao\": numero_refeicao,  \n",
    "                \"id_alimento\": row['id_alimento'], \n",
    "                \"id_prato\": \"\",\n",
    "                \"dt_dia\": dates[data_chave],\n",
    "                \"unidade_medida\": row['unidade_medida'],\n",
    "                \"porcao_padrao\": round(row['porcao_padrao'],1), \n",
    "                \"qtde_utilizada\": qtde_utilizada,\n",
    "                \"qtde_proteina\": round(qtde_utilizada * row['qtde_proteina'],1),\n",
    "                \"qtde_carboidrato\": round(qtde_utilizada * row['qtde_carboidrato'],1),\n",
    "                \"qtde_gordura\": round(qtde_utilizada * row['qtde_gordura'],1),\n",
    "                \"qtde_alcool\": round(qtde_utilizada * row['qtde_alcool'],1),\n",
    "                \"kcal\": round(qtde_utilizada* row['kcal'],1)\n",
    "            }\n",
    "        }\n",
    "\n",
    "        mensagem = {\n",
    "            \"messages\": [\n",
    "                {\n",
    "                    \"role\": \"system\",\n",
    "                    \"content\": (\n",
    "                        \"Você é um assistente nutricional especializado e sua função é fornecer respostas claras e diretas sobre tópicos de nutrição, incluindo planejamento de refeições, controle de calorias e dicas para uma alimentação saudável baseados nos pilares de dietas flexível, contagem de macronutrientes e balanço energético. Você também deve retornar informação nutricional sobre alimentos baseado em nossa tabela de alimentos e ajuda os usuários a registrar seu consumo calórico durante o dia em refeições específicas quando solicitado. Você deve gerar em um formato JSON específico para que o sistema de backend possa processar e executar ações conforme necessário.\"\n",
    "                    )\n",
    "                },\n",
    "                {\n",
    "                    \"role\": \"user\",\n",
    "                    \"content\": entrada_usuario\n",
    "                },\n",
    "                {\n",
    "                    \"role\": \"assistant\",\n",
    "                    \"content\": f'{resposta_assistente}'\n",
    "\n",
    "                }\n",
    "            ]\n",
    "        }\n",
    "        \n",
    "        jsonl_file.write(json.dumps(mensagem, ensure_ascii=False) + '\\n')\n",
    "\n",
    "print(f\"Arquivo {jsonl_file_path} criado com sucesso.\")"
   ]
  },
  {
   "cell_type": "markdown",
   "metadata": {},
   "source": [
    "### Sem refeição"
   ]
  },
  {
   "cell_type": "code",
   "execution_count": 12,
   "metadata": {},
   "outputs": [
    {
     "name": "stdout",
     "output_type": "stream",
     "text": [
      "Arquivo output-backend.jsonl criado com sucesso.\n"
     ]
    }
   ],
   "source": [
    "with open(jsonl_file_path, 'a', encoding='utf-8') as jsonl_file:\n",
    "\n",
    "    for index, row in df.head(50).iterrows():\n",
    "        index_data = random.randint(0, 2)\n",
    "        data_chave = datas_chaves[index_data]\n",
    "        numero_refeicao = random.randint(1, 8)\n",
    "        qtde_utilizada_porcao = random.randint(1, 5)\n",
    "        qtde_utilizada_gramas = qtde_utilizada_porcao * row['porcao_padrao']\n",
    "        qtde_utilizada = round(qtde_utilizada_gramas/row['porcao_padrao'],1)\n",
    "        entrada_usuario = f\"Adicionar {qtde_utilizada_gramas} gramas de {row['nome_alimento']} {row['estado_alimento']} {data_chave}.\"\n",
    "\n",
    "\n",
    "        resposta_assistente = {\n",
    "            \"acao\": \"\",\n",
    "            \"resposta\": \"Refeição não fornecida.\",\n",
    "            \"dados\": \"\"\n",
    "        }\n",
    "\n",
    "        mensagem = {\n",
    "            \"messages\": [\n",
    "                {\n",
    "                    \"role\": \"system\",\n",
    "                    \"content\": (\n",
    "                        \"Você é um assistente nutricional que retorna informações sobre alimentos e ajuda os usuarios a registras seus consumo de alimentos durante o dia em refeições específicas. Você deve gerar em um formato JSON específico para que o sistema de backend possa processar e executar ações conforme necessário.\"\n",
    "                    )\n",
    "                },\n",
    "                {\n",
    "                    \"role\": \"user\",\n",
    "                    \"content\": entrada_usuario\n",
    "                },\n",
    "                {\n",
    "                    \"role\": \"assistant\",\n",
    "                    \"content\": f'{resposta_assistente}'\n",
    "\n",
    "                }\n",
    "            ]\n",
    "        }\n",
    "        \n",
    "        jsonl_file.write(json.dumps(mensagem, ensure_ascii=False) + '\\n')\n",
    "\n",
    "print(f\"Arquivo {jsonl_file_path} criado com sucesso.\")"
   ]
  },
  {
   "cell_type": "markdown",
   "metadata": {},
   "source": [
    "### Sem alimento"
   ]
  },
  {
   "cell_type": "code",
   "execution_count": 13,
   "metadata": {},
   "outputs": [
    {
     "name": "stdout",
     "output_type": "stream",
     "text": [
      "Arquivo output-backend.jsonl criado com sucesso.\n"
     ]
    }
   ],
   "source": [
    "with open(jsonl_file_path, 'a', encoding='utf-8') as jsonl_file:\n",
    "\n",
    "    for index, row in df.head(50).iterrows():\n",
    "        index_data = random.randint(0, 2)\n",
    "        data_chave = datas_chaves[index_data]\n",
    "        numero_refeicao = random.randint(1, 8)\n",
    "        qtde_utilizada_porcao = random.randint(1, 5)\n",
    "        qtde_utilizada_gramas = qtde_utilizada_porcao * row['porcao_padrao']\n",
    "        qtde_utilizada = round(qtde_utilizada_gramas/row['porcao_padrao'],1)\n",
    "        entrada_usuario = f\"Adicionar {qtde_utilizada_gramas} gramas de {row['estado_alimento']} na minha refeicao {numero_refeicao} de {data_chave}.\"\n",
    "\n",
    "\n",
    "\n",
    "        resposta_assistente = {\n",
    "            \"acao\": \"\",\n",
    "            \"resposta\": \"Alimento não fornecido.\",\n",
    "            \"dados\": \"\"\n",
    "        }\n",
    "\n",
    "        mensagem = {\n",
    "            \"messages\": [\n",
    "                {\n",
    "                    \"role\": \"system\",\n",
    "                    \"content\": (\n",
    "                        \"Você é um assistente nutricional que retorna informações sobre alimentos e ajuda os usuarios a registras seus consumo de alimentos durante o dia em refeições específicas. Você deve gerar em um formato JSON específico para que o sistema de backend possa processar e executar ações conforme necessário.\"\n",
    "                    )\n",
    "                },\n",
    "                {\n",
    "                    \"role\": \"user\",\n",
    "                    \"content\": entrada_usuario\n",
    "                },\n",
    "                {\n",
    "                    \"role\": \"assistant\",\n",
    "                    \"content\": f'{resposta_assistente}'\n",
    "\n",
    "                }\n",
    "            ]\n",
    "        }\n",
    "        \n",
    "        jsonl_file.write(json.dumps(mensagem, ensure_ascii=False) + '\\n')\n",
    "\n",
    "print(f\"Arquivo {jsonl_file_path} criado com sucesso.\")"
   ]
  },
  {
   "cell_type": "markdown",
   "metadata": {},
   "source": [
    "### Sem Quantidade"
   ]
  },
  {
   "cell_type": "code",
   "execution_count": 14,
   "metadata": {},
   "outputs": [
    {
     "name": "stdout",
     "output_type": "stream",
     "text": [
      "Arquivo output-backend.jsonl criado com sucesso.\n"
     ]
    }
   ],
   "source": [
    "with open(jsonl_file_path, 'a', encoding='utf-8') as jsonl_file:\n",
    "\n",
    "    for index, row in df.head(50).iterrows():\n",
    "        index_data = random.randint(0, 2)\n",
    "        data_chave = datas_chaves[index_data]\n",
    "        numero_refeicao = random.randint(1, 8)\n",
    "        qtde_utilizada_porcao = random.randint(1, 5)\n",
    "        qtde_utilizada_gramas = qtde_utilizada_porcao * row['porcao_padrao']\n",
    "        qtde_utilizada = round(qtde_utilizada_gramas/row['porcao_padrao'],1)\n",
    "        entrada_usuario = f\"Adicionar {row['nome_alimento']} {row['estado_alimento']} na minha refeicao {numero_refeicao} de {data_chave}.\"\n",
    "\n",
    "\n",
    "        resposta_assistente = {\n",
    "            \"acao\": \"\",\n",
    "            \"resposta\": \"Quantidade não fornecida.\",\n",
    "            \"dados\": \"\"\n",
    "        }\n",
    "\n",
    "        mensagem = {\n",
    "            \"messages\": [\n",
    "                {\n",
    "                    \"role\": \"system\",\n",
    "                    \"content\": (\n",
    "                        \"Você é um assistente nutricional que retorna informações sobre alimentos e ajuda os usuarios a registras seus consumo de alimentos durante o dia em refeições específicas. Você deve gerar em um formato JSON específico para que o sistema de backend possa processar e executar ações conforme necessário.\"\n",
    "                    )\n",
    "                },\n",
    "                {\n",
    "                    \"role\": \"user\",\n",
    "                    \"content\": entrada_usuario\n",
    "                },\n",
    "                {\n",
    "                    \"role\": \"assistant\",\n",
    "                    \"content\": f'{resposta_assistente}'\n",
    "\n",
    "                }\n",
    "            ]\n",
    "        }\n",
    "        \n",
    "        jsonl_file.write(json.dumps(mensagem, ensure_ascii=False) + '\\n')\n",
    "\n",
    "print(f\"Arquivo {jsonl_file_path} criado com sucesso.\")"
   ]
  }
 ],
 "metadata": {
  "kernelspec": {
   "display_name": "Python 3",
   "language": "python",
   "name": "python3"
  },
  "language_info": {
   "codemirror_mode": {
    "name": "ipython",
    "version": 3
   },
   "file_extension": ".py",
   "mimetype": "text/x-python",
   "name": "python",
   "nbconvert_exporter": "python",
   "pygments_lexer": "ipython3",
   "version": "3.9.6"
  }
 },
 "nbformat": 4,
 "nbformat_minor": 2
}

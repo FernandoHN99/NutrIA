{
 "cells": [
  {
   "cell_type": "code",
   "execution_count": 25,
   "metadata": {},
   "outputs": [],
   "source": [
    "import pandas as pd\n",
    "import json"
   ]
  },
  {
   "cell_type": "code",
   "execution_count": 26,
   "metadata": {},
   "outputs": [],
   "source": [
    "csv_file_path = 'treinoIA.csv'\n",
    "df = pd.read_csv(csv_file_path, sep=';')"
   ]
  },
  {
   "cell_type": "code",
   "execution_count": 27,
   "metadata": {},
   "outputs": [
    {
     "data": {
      "text/html": [
       "<div>\n",
       "<style scoped>\n",
       "    .dataframe tbody tr th:only-of-type {\n",
       "        vertical-align: middle;\n",
       "    }\n",
       "\n",
       "    .dataframe tbody tr th {\n",
       "        vertical-align: top;\n",
       "    }\n",
       "\n",
       "    .dataframe thead th {\n",
       "        text-align: right;\n",
       "    }\n",
       "</style>\n",
       "<table border=\"1\" class=\"dataframe\">\n",
       "  <thead>\n",
       "    <tr style=\"text-align: right;\">\n",
       "      <th></th>\n",
       "      <th>Perguntas</th>\n",
       "      <th>Respostas</th>\n",
       "    </tr>\n",
       "  </thead>\n",
       "  <tbody>\n",
       "    <tr>\n",
       "      <th>0</th>\n",
       "      <td>O que é o balanço calórico e por que é importa...</td>\n",
       "      <td>O balanço calórico é a base de qualquer dieta,...</td>\n",
       "    </tr>\n",
       "    <tr>\n",
       "      <th>1</th>\n",
       "      <td>Qual é o papel do balanço calórico em uma dieta?</td>\n",
       "      <td>O balanço calórico é fundamental em qualquer d...</td>\n",
       "    </tr>\n",
       "    <tr>\n",
       "      <th>2</th>\n",
       "      <td>Por que o balanço calórico é considerado a bas...</td>\n",
       "      <td>O balanço calórico é considerado a base de qua...</td>\n",
       "    </tr>\n",
       "    <tr>\n",
       "      <th>3</th>\n",
       "      <td>Quais são os três objetivos principais que lev...</td>\n",
       "      <td>Os três objetivos principais que levam uma pes...</td>\n",
       "    </tr>\n",
       "    <tr>\n",
       "      <th>4</th>\n",
       "      <td>Quais são os objetivos mais comuns que as pess...</td>\n",
       "      <td>Os três objetivos mais comuns que levam uma pe...</td>\n",
       "    </tr>\n",
       "  </tbody>\n",
       "</table>\n",
       "</div>"
      ],
      "text/plain": [
       "                                           Perguntas  \\\n",
       "0  O que é o balanço calórico e por que é importa...   \n",
       "1   Qual é o papel do balanço calórico em uma dieta?   \n",
       "2  Por que o balanço calórico é considerado a bas...   \n",
       "3  Quais são os três objetivos principais que lev...   \n",
       "4  Quais são os objetivos mais comuns que as pess...   \n",
       "\n",
       "                                           Respostas  \n",
       "0  O balanço calórico é a base de qualquer dieta,...  \n",
       "1  O balanço calórico é fundamental em qualquer d...  \n",
       "2  O balanço calórico é considerado a base de qua...  \n",
       "3  Os três objetivos principais que levam uma pes...  \n",
       "4  Os três objetivos mais comuns que levam uma pe...  "
      ]
     },
     "execution_count": 27,
     "metadata": {},
     "output_type": "execute_result"
    }
   ],
   "source": [
    "df['Respostas'] = df['Respostas'].str.replace(';', ',')\n",
    "df.head()"
   ]
  },
  {
   "cell_type": "code",
   "execution_count": 28,
   "metadata": {},
   "outputs": [
    {
     "name": "stdout",
     "output_type": "stream",
     "text": [
      "Arquivo output-basico.jsonl criado com sucesso.\n"
     ]
    }
   ],
   "source": [
    "jsonl_file_path = \"output-basico.jsonl\"\n",
    "with open(jsonl_file_path, \"w\", encoding=\"utf-8\") as jsonl_file:\n",
    "    for index, row in df.iterrows():\n",
    "\n",
    "        resposta_assistente = {\n",
    "            \"acao\": \"\",\n",
    "            \"resposta\": row[\"Respostas\"],\n",
    "            \"dados\": \"\"\n",
    "        }\n",
    "\n",
    "        message = {\n",
    "            \"messages\": [\n",
    "                {\n",
    "                    \"role\": \"system\",\n",
    "                    \"content\": \n",
    "                        \"Você é um assistente nutricional especializado e sua função é fornecer respostas claras e diretas sobre tópicos de nutrição, incluindo planejamento de refeições, controle de calorias e dicas para uma alimentação saudável baseados nos pilares de dietas flexível, contagem de macronutrientes e balanço energético. Você também deve retornar informação nutricional sobre alimentos baseado em nossa tabela de alimentos e ajuda os usuários a registrar seu consumo calórico durante o dia em refeições específicas quando solicitado. Você deve gerar em um formato JSON específico para que o sistema de backend possa processar e executar ações conforme necessário.\"\n",
    "                    ,\n",
    "                },\n",
    "                {\"role\": \"user\", \"content\": row[\"Perguntas\"]},\n",
    "                {\n",
    "                    \"role\": \"assistant\",\n",
    "                    \"content\": f'{resposta_assistente}'\n",
    "                },\n",
    "            ]\n",
    "        }\n",
    "\n",
    "        jsonl_file.write(json.dumps(message, ensure_ascii=False) + \"\\n\")\n",
    "\n",
    "print(f\"Arquivo {jsonl_file_path} criado com sucesso.\")"
   ]
  }
 ],
 "metadata": {
  "kernelspec": {
   "display_name": "Python 3",
   "language": "python",
   "name": "python3"
  },
  "language_info": {
   "codemirror_mode": {
    "name": "ipython",
    "version": 3
   },
   "file_extension": ".py",
   "mimetype": "text/x-python",
   "name": "python",
   "nbconvert_exporter": "python",
   "pygments_lexer": "ipython3",
   "version": "3.9.6"
  }
 },
 "nbformat": 4,
 "nbformat_minor": 2
}

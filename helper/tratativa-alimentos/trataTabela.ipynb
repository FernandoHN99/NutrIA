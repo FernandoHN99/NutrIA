{
 "cells": [
  {
   "cell_type": "code",
   "execution_count": 63,
   "metadata": {},
   "outputs": [],
   "source": [
    "import pandas as pd\n",
    "import numpy as np"
   ]
  },
  {
   "cell_type": "code",
   "execution_count": 64,
   "metadata": {},
   "outputs": [
    {
     "data": {
      "text/plain": [
       "(10757, 31)"
      ]
     },
     "execution_count": 64,
     "metadata": {},
     "output_type": "execute_result"
    }
   ],
   "source": [
    "df = pd.read_csv('tabela.csv', sep=';')\n",
    "df.shape"
   ]
  },
  {
   "cell_type": "code",
   "execution_count": 65,
   "metadata": {},
   "outputs": [],
   "source": [
    "df = df.dropna(subset=['nome_alimento'])\n",
    "# df"
   ]
  },
  {
   "cell_type": "code",
   "execution_count": 66,
   "metadata": {},
   "outputs": [],
   "source": [
    "# df.isnull().sum()"
   ]
  },
  {
   "cell_type": "code",
   "execution_count": 67,
   "metadata": {},
   "outputs": [],
   "source": [
    "df['alimento_verificado'] = 'TRUE'\n",
    "df['alimento_ativo'] = 'TRUE'\n",
    "df['dtt_criacao_alimento'] = '2024-08-29 00:00:00'\n",
    "df['unidade_medida'] = 'GRAMA'\n",
    "df['porcao_padrao'] = 100\n",
    "# df.head()"
   ]
  },
  {
   "cell_type": "code",
   "execution_count": 68,
   "metadata": {},
   "outputs": [],
   "source": [
    "for col in df.columns:\n",
    "    df[col] = df[col].replace('-', '')"
   ]
  },
  {
   "cell_type": "code",
   "execution_count": 69,
   "metadata": {},
   "outputs": [],
   "source": [
    "df['kcal'] = df['kcal'].replace('', pd.NA)\n",
    "df['kcal'] = df['kcal'].fillna(0)\n",
    "\n",
    "df['qtde_carboidrato'] = df['qtde_carboidrato'].replace('', pd.NA)\n",
    "df['qtde_carboidrato'] = df['qtde_carboidrato'].fillna(0)\n",
    "\n",
    "df['qtde_proteina'] = df['qtde_proteina'].replace('', pd.NA)\n",
    "df['qtde_proteina'] = df['qtde_proteina'].fillna(0)\n",
    "\n",
    "df['qtde_gordura'] = df['qtde_gordura'].replace('', pd.NA)\n",
    "df['qtde_gordura'] = df['qtde_gordura'].fillna(0)\n",
    "\n",
    "df['qtde_gordura'] = df['qtde_gordura'].replace('', pd.NA)\n",
    "df['qtde_alcool'] = df['qtde_alcool'].fillna(0)\n",
    "\n",
    "# (df[['kcal', 'qtde_proteina', 'qtde_gordura', 'qtde_carboidrato', 'qtde_alcool']] == '').sum()"
   ]
  },
  {
   "cell_type": "code",
   "execution_count": 70,
   "metadata": {},
   "outputs": [],
   "source": [
    "df['nome_alimento'] = df['nome_alimento'].str.replace(r'\\s*\\(.*?\\)\\s*', ' ', regex=True)\n",
    "df['nome_alimento'] = df['nome_alimento'].str.replace(r'\\s+', ' ', regex=True).str.strip()\n",
    "# df.head()"
   ]
  },
  {
   "cell_type": "code",
   "execution_count": 71,
   "metadata": {},
   "outputs": [],
   "source": [
    "df['nome_alimento'] = df['nome_alimento'].str.replace('não especificada', '', regex=False).str.strip()\n",
    "df['nome_alimento'] = df['nome_alimento'].str.replace('não especificado', '', regex=False).str.strip()\n",
    "# df"
   ]
  },
  {
   "cell_type": "code",
   "execution_count": 72,
   "metadata": {},
   "outputs": [
    {
     "name": "stdout",
     "output_type": "stream",
     "text": [
      "['PADRAO' 'CRU' 'COZIDO' 'GRELHADO' 'ASSADO' 'REFOGADO' 'Ensopado'\n",
      " 'Mingau' 'Sopa' 'FRITO' 'Molho vermelho' 'Molho branco' 'Ao alho e óleo'\n",
      " 'Com manteiga/óleo' 'Empanado(a)/à milanesa' 'Ao vinagrete']\n"
     ]
    }
   ],
   "source": [
    "# print(df.estado_alimento.unique())\n",
    "df.loc[df['estado_alimento'].str.contains('Não se aplica', case=False, na=False), 'estado_alimento'] = 'PADRAO'\n",
    "df.loc[df['estado_alimento'].str.contains('Cru', case=False, na=False), 'estado_alimento'] = 'CRU'\n",
    "df.loc[df['estado_alimento'].str.contains('Cozido', case=False, na=False), 'estado_alimento'] = 'COZIDO'\n",
    "df.loc[df['estado_alimento'].str.contains('Grelhado', case=False, na=False), 'estado_alimento'] = 'GRELHADO'\n",
    "df.loc[df['estado_alimento'].str.contains('Assado', case=False, na=False), 'estado_alimento'] = 'ASSADO'\n",
    "df.loc[df['estado_alimento'].str.contains('Refogado', case=False, na=False), 'estado_alimento'] = 'REFOGADO'\n",
    "df.loc[df['estado_alimento'].str.contains('Frito', case=False, na=False), 'estado_alimento'] = 'FRITO'\n",
    "\n",
    "print(df.estado_alimento.unique())"
   ]
  },
  {
   "cell_type": "code",
   "execution_count": 73,
   "metadata": {},
   "outputs": [
    {
     "name": "stdout",
     "output_type": "stream",
     "text": [
      "['PADRAO' 'CRU' 'COZIDO' 'GRELHADO' 'ASSADO' 'REFOGADO' 'FRITO']\n"
     ]
    }
   ],
   "source": [
    "valores_validos = ['PADRAO', 'CRU', 'COZIDO', 'GRELHADO', 'ASSADO', 'REFOGADO', 'FRITO']\n",
    "df = df[df['estado_alimento'].isin(valores_validos)]\n",
    "print(df.estado_alimento.unique())"
   ]
  },
  {
   "cell_type": "code",
   "execution_count": 74,
   "metadata": {},
   "outputs": [
    {
     "name": "stdout",
     "output_type": "stream",
     "text": [
      "(1673, 31)\n",
      "(1671, 31)\n"
     ]
    }
   ],
   "source": [
    "print(df.shape)\n",
    "df = df.drop_duplicates(subset=['nome_alimento', 'estado_alimento'], keep='first')\n",
    "print(df.shape)"
   ]
  },
  {
   "cell_type": "code",
   "execution_count": 75,
   "metadata": {},
   "outputs": [
    {
     "name": "stdout",
     "output_type": "stream",
     "text": [
      "(1671, 31)\n",
      "(1607, 31)\n"
     ]
    }
   ],
   "source": [
    "print(df.shape)\n",
    "df = df[~((df['estado_alimento'] == 'PADRAO') & (df['nome_alimento'].duplicated(keep=False)))]\n",
    "print(df.shape)"
   ]
  },
  {
   "cell_type": "code",
   "execution_count": 76,
   "metadata": {},
   "outputs": [
    {
     "name": "stderr",
     "output_type": "stream",
     "text": [
      "/var/folders/40/ncqy45yx5y59gm95g5v_kx480000gn/T/ipykernel_7229/373288614.py:7: FutureWarning: DataFrame.applymap has been deprecated. Use DataFrame.map instead.\n",
      "  df = df.applymap(convert_and_truncate)\n"
     ]
    }
   ],
   "source": [
    "def convert_and_truncate(x):\n",
    "    try:\n",
    "        return round(float(x.replace(',', '.')), 1)\n",
    "    except (ValueError, AttributeError):\n",
    "        return x\n",
    "\n",
    "df = df.applymap(convert_and_truncate)"
   ]
  },
  {
   "cell_type": "code",
   "execution_count": 77,
   "metadata": {},
   "outputs": [],
   "source": [
    "df['id_alimento'] = range(1, len(df) + 1)\n",
    "df['id_tabela_nutricional'] = df['id_alimento']"
   ]
  },
  {
   "cell_type": "code",
   "execution_count": 78,
   "metadata": {},
   "outputs": [
    {
     "data": {
      "text/plain": [
       "Series([], Name: qtde_gordura, dtype: float64)"
      ]
     },
     "execution_count": 78,
     "metadata": {},
     "output_type": "execute_result"
    }
   ],
   "source": [
    "# colunas_float = valores = [ \"id_tabela_nutricional\", \"kcal\", \"qtde_proteina\", \"qtde_carboidrato\", \"qtde_gordura\", \"qtde_alcool\", \"qtde_acucar\", \"qtde_fibra\", \"qtde_saturada\", \"qtde_monosaturada\",  \"qtde_polisaturada\", \"qtde_trans\", \"qtde_sodio\", \"qtde_calcio\", \"qtde_ferro\", \"qtde_potassio\", \"qtde_vitamina_a\", \"qtde_vitamina_c\", \"qtde_vitamina_d\", \"qtde_vitamina_e\"\n",
    "# ]\n",
    "# for col in colunas_float:\n",
    "#     df[col] = pd.to_numeric(df[col], errors='coerce')\n",
    "\n",
    "# colunas_com_strings_vazias = df.applymap(lambda x: isinstance(x, str) and x == '').any()\n",
    "\n",
    "# # Exibir o resultado\n",
    "# print(colunas_com_strings_vazias)\n",
    "\n",
    "df [df.qtde_gordura.isnull()]['qtde_gordura']"
   ]
  },
  {
   "cell_type": "code",
   "execution_count": 79,
   "metadata": {},
   "outputs": [],
   "source": [
    "df.to_csv('TabelaNutrIA-Tratada.csv', sep=',', index=False)"
   ]
  },
  {
   "cell_type": "code",
   "execution_count": 80,
   "metadata": {},
   "outputs": [],
   "source": [
    "df_alimentos = df[['id_alimento', 'id_usuario', 'nome_alimento', 'estado_alimento', 'alimento_verificado', 'grupo_alimentar', 'marca_alimento', 'dtt_criacao_alimento', 'alimento_ativo']]\n",
    "df_alimentos.to_csv('TabelaNutrIA-Alimentos.csv', sep=',', index=False)"
   ]
  },
  {
   "cell_type": "code",
   "execution_count": 81,
   "metadata": {},
   "outputs": [
    {
     "name": "stderr",
     "output_type": "stream",
     "text": [
      "/var/folders/40/ncqy45yx5y59gm95g5v_kx480000gn/T/ipykernel_7229/3474774222.py:4: SettingWithCopyWarning: \n",
      "A value is trying to be set on a copy of a slice from a DataFrame.\n",
      "Try using .loc[row_indexer,col_indexer] = value instead\n",
      "\n",
      "See the caveats in the documentation: https://pandas.pydata.org/pandas-docs/stable/user_guide/indexing.html#returning-a-view-versus-a-copy\n",
      "  df_tabela_nutricional['id_alimento'] = df['id_alimento']\n"
     ]
    }
   ],
   "source": [
    "colunas_diferenca = df.columns.difference(df_alimentos.columns)\n",
    "\n",
    "df_tabela_nutricional = df[colunas_diferenca]\n",
    "df_tabela_nutricional['id_alimento'] = df['id_alimento']\n",
    "df_tabela_nutricional.to_csv('TabelaNutrIA-TabelaNutricional.csv', sep=',', index=False)"
   ]
  }
 ],
 "metadata": {
  "kernelspec": {
   "display_name": "Python 3",
   "language": "python",
   "name": "python3"
  },
  "language_info": {
   "codemirror_mode": {
    "name": "ipython",
    "version": 3
   },
   "file_extension": ".py",
   "mimetype": "text/x-python",
   "name": "python",
   "nbconvert_exporter": "python",
   "pygments_lexer": "ipython3",
   "version": "3.9.6"
  }
 },
 "nbformat": 4,
 "nbformat_minor": 2
}
